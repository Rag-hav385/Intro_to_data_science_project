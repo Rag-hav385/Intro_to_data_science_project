{
 "cells": [
  {
   "cell_type": "code",
   "execution_count": 8,
   "id": "d4353049",
   "metadata": {},
   "outputs": [],
   "source": [
    "# Define the groups and their corresponding subdirectories.\n",
    "# groups = {\n",
    "#     'RT_S': r'.*(RT_S|S_RT).*',\n",
    "#     'KA_KA': r'.*KA_KA.*',\n",
    "#     'KA_RT': r'.*(RT_KA|KA_RT).*',\n",
    "#     'S_KA': r'.*(S_KA|KA_S).*',\n",
    "#     'S_CW': r'.*S_CW.*',\n",
    "#     'BB_RT': r'.*(BB_RT|RT_BB).*',\n",
    "#     'KA_BB': r'.*KA_BB.*',\n",
    "#     'RT_RT': r'.*RT_RT.*',\n",
    "#     'S_S': r'.*S_S.*'\n",
    "# }\n",
    "\n",
    "groups = {\n",
    "    'RT_S': r'^(?!.*(KA_KA|KA_RT|KA_BB|RT_RT)).*(RT_S|S_RT).*$',\n",
    "    'S_KA': r'^(?!.*(KA_KA|KA_RT|KA_BB|RT_RT|RT_KA)).*(S_KA|KA_S).*$',\n",
    "    'S_S': r'^(?!.*(RT_S|S_RT|S_KA|KA_S)).*S_S.*',\n",
    "    'KA_KA': r'.*KA_KA.*',\n",
    "    'KA_RT': r'.*(RT_KA|KA_RT).*',\n",
    "    'S_CW': r'.*S_CW.*',\n",
    "    'BB_RT': r'.*(BB_RT|RT_BB).*',\n",
    "    'KA_BB': r'.*KA_BB.*',\n",
    "    'RT_RT': r'.*RT_RT.*',\n",
    "}"
   ]
  },
  {
   "cell_type": "code",
   "execution_count": 9,
   "id": "f8bb6b3c",
   "metadata": {},
   "outputs": [],
   "source": [
    "# Move files to their respective subdirectories in the destination directory based on the regular expressions.\n",
    "for filename in csv_files:\n",
    "    for group, regex_pattern in groups.items():\n",
    "        if re.match(regex_pattern, filename):\n",
    "            source_file = os.path.join(source_directory, filename)\n",
    "            destination_folder = os.path.join(destination_directory, group)\n",
    "            shutil.copy(source_file, os.path.join(destination_folder, filename))"
   ]
  },
  {
   "cell_type": "code",
   "execution_count": null,
   "id": "f83fa960",
   "metadata": {},
   "outputs": [],
   "source": []
  },
  {
   "cell_type": "code",
   "execution_count": null,
   "id": "bd0dd2e3",
   "metadata": {},
   "outputs": [],
   "source": []
  },
  {
   "cell_type": "code",
   "execution_count": null,
   "id": "f08211d6",
   "metadata": {},
   "outputs": [],
   "source": []
  }
 ],
 "metadata": {
  "kernelspec": {
   "display_name": "Python 3 (ipykernel)",
   "language": "python",
   "name": "python3"
  },
  "language_info": {
   "codemirror_mode": {
    "name": "ipython",
    "version": 3
   },
   "file_extension": ".py",
   "mimetype": "text/x-python",
   "name": "python",
   "nbconvert_exporter": "python",
   "pygments_lexer": "ipython3",
   "version": "3.11.4"
  }
 },
 "nbformat": 4,
 "nbformat_minor": 5
}
