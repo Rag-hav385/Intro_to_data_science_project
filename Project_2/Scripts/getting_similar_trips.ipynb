{
 "cells": [
  {
   "cell_type": "code",
   "execution_count": 34,
   "metadata": {},
   "outputs": [],
   "source": [
    "import pandas as pd\n",
    "import pandas as pd\n",
    "import seaborn as sns\n",
    "import numpy as np\n",
    "\n",
    "import warnings\n",
    "warnings.filterwarnings('ignore')\n",
    "\n",
    "import matplotlib.pyplot as plt\n",
    "import pandas as pd\n",
    "import numpy as np\n",
    "#!pip install scikit-learn\n",
    "\n",
    "from sklearn.metrics.pairwise import cosine_similarity\n",
    "from sklearn.feature_extraction.text import CountVectorizer\n",
    "from scipy.spatial.distance import euclidean\n",
    "from itertools import product\n",
    "from scipy.spatial.distance import cdist\n",
    "from sklearn.metrics.pairwise import cosine_distances\n",
    "import matplotlib.pyplot as plt\n",
    "from scipy.spatial import distance\n",
    "from tqdm import tqdm"
   ]
  },
  {
   "cell_type": "code",
   "execution_count": 65,
   "metadata": {},
   "outputs": [
    {
     "name": "stdout",
     "output_type": "stream",
     "text": [
      "<class 'pandas.core.frame.DataFrame'>\n",
      "RangeIndex: 1616380 entries, 0 to 1616379\n",
      "Data columns (total 16 columns):\n",
      " #   Column                                   Non-Null Count    Dtype  \n",
      "---  ------                                   --------------    -----  \n",
      " 0   Unnamed: 0                               1616380 non-null  int64  \n",
      " 1   Time                                     1616380 non-null  object \n",
      " 2   Engine_Coolant_Temperature_degreesC      905194 non-null   float64\n",
      " 3   Intake_Manifold_Absolute_Pressure_kPa    1616380 non-null  float64\n",
      " 4   Engine_RPM_RPM                           1616380 non-null  float64\n",
      " 5   Vehicle_Speed_Sensor_km_h                1616380 non-null  float64\n",
      " 6   Intake_Air_Temperature_degreesC          905194 non-null   float64\n",
      " 7   Air_Flow_Rate_from_Mass_Flow_Sensor_g_s  1616380 non-null  float64\n",
      " 8   Absolute_Throttle_Position_              1616346 non-null  float64\n",
      " 9   Ambient_Air_Temperature_degreesC         905156 non-null   float64\n",
      " 10  Accelerator_Pedal_Position_D_            1616269 non-null  float64\n",
      " 11  Accelerator_Pedal_Position_E_            1616245 non-null  float64\n",
      " 12  label                                    1616380 non-null  object \n",
      " 13  Engine_Coolant_Temperature_A_degreesC    711186 non-null   float64\n",
      " 14  Intake_Air_Temperature_A_degreesC        711186 non-null   float64\n",
      " 15  Ambient_Air_Temperature_A_degreesC       711156 non-null   float64\n",
      "dtypes: float64(13), int64(1), object(2)\n",
      "memory usage: 197.3+ MB\n"
     ]
    }
   ],
   "source": [
    "df = pd.read_csv('final_df_preprocessed.csv')\n",
    "df.info()"
   ]
  },
  {
   "cell_type": "code",
   "execution_count": 69,
   "metadata": {},
   "outputs": [],
   "source": [
    "#Taking different df's\n",
    "label_col = 'Air_Flow_Rate_from_Mass_Flow_Sensor_g_s'\n",
    "df1 = df[(df['label'] == 'fleet1')]\n",
    "df2 = df[(df['label'] == 'fleet2')]\n",
    "df3 = df[(df['label'] == 'fleet3')]\n",
    "df4 = df[(df['label'] == 'fleet4')]"
   ]
  },
  {
   "cell_type": "code",
   "execution_count": 36,
   "metadata": {},
   "outputs": [
    {
     "name": "stderr",
     "output_type": "stream",
     "text": [
      "  0%|          | 0/222508 [00:00<?, ?it/s]"
     ]
    },
    {
     "name": "stderr",
     "output_type": "stream",
     "text": [
      "100%|██████████| 222508/222508 [00:01<00:00, 151021.74it/s]\n"
     ]
    },
    {
     "data": {
      "text/plain": [
       "<seaborn.axisgrid.FacetGrid at 0x242539af150>"
      ]
     },
     "execution_count": 36,
     "metadata": {},
     "output_type": "execute_result"
    },
    {
     "data": {
      "image/png": "[encoded data removed]",
      "text/plain": [
       "<Figure size 500x500 with 1 Axes>"
      ]
     },
     "metadata": {},
     "output_type": "display_data"
    }
   ],
   "source": [
    "#Creation of predition for df2\n",
    "columns_to_exclude = ['Absolute_Throttle_Position_', 'Accelerator_Pedal_Position_D_', 'Accelerator_Pedal_Position_E_', 'Unnamed: 0', 'Time', 'label','Air_Flow_Rate_from_Mass_Flow_Sensor_g_s']\n",
    "\n",
    "vals_for_sim = pd.DataFrame(df1.drop(columns_to_exclude , axis = 1).mean()).T\n",
    "\n",
    "def euclidean_distance(row1, row2):\n",
    "    return distance.euclidean(row1, row2)\n",
    "\n",
    "distances = [euclidean_distance(vals_for_sim.values[0], row) for row in tqdm(df2.drop(columns_to_exclude , axis = 1).fillna(0).values)]\n",
    "\n",
    "df2[\"distance_from_1\"] = distances\n",
    "\n",
    "sns.displot(df2.distance_from_1)\n",
    "\n",
    "df_to_save = df2[df2.distance_from_1 < 250].sort_values('distance_from_4')[:500]\n",
    "\n",
    "cols_to_update = ['Engine_Coolant_Temperature_degreesC',\n",
    "       'Intake_Manifold_Absolute_Pressure_kPa', 'Engine_RPM_RPM',\n",
    "       'Vehicle_Speed_Sensor_km_h', 'Intake_Air_Temperature_degreesC',\n",
    "       'Ambient_Air_Temperature_degreesC',\n",
    "       'Engine_Coolant_Temperature_A_degreesC',\n",
    "       'Intake_Air_Temperature_A_degreesC',\n",
    "       'Ambient_Air_Temperature_A_degreesC']\n",
    "\n",
    "for col in cols_to_update:\n",
    "    df_to_save[col] = [vals_for_sim[col][0]]*len(df_to_save)\n",
    "\n",
    "df_to_save"
   ]
  },
  {
   "cell_type": "code",
   "execution_count": 62,
   "metadata": {},
   "outputs": [
    {
     "data": {
      "text/plain": [
       "Index(['Engine_Coolant_Temperature_degreesC',\n",
       "       'Intake_Manifold_Absolute_Pressure_kPa', 'Engine_RPM_RPM',\n",
       "       'Vehicle_Speed_Sensor_km_h', 'Intake_Air_Temperature_degreesC',\n",
       "       'Ambient_Air_Temperature_degreesC',\n",
       "       'Engine_Coolant_Temperature_A_degreesC',\n",
       "       'Intake_Air_Temperature_A_degreesC',\n",
       "       'Ambient_Air_Temperature_A_degreesC'],\n",
       "      dtype='object')"
      ]
     },
     "execution_count": 62,
     "metadata": {},
     "output_type": "execute_result"
    }
   ],
   "source": [
    "vals_for_sim.columns"
   ]
  },
  {
   "cell_type": "code",
   "execution_count": 75,
   "metadata": {},
   "outputs": [],
   "source": [
    "cols_to_update = ['Engine_Coolant_Temperature_degreesC',\n",
    "       'Intake_Manifold_Absolute_Pressure_kPa', 'Engine_RPM_RPM',\n",
    "       'Vehicle_Speed_Sensor_km_h', 'Intake_Air_Temperature_degreesC',\n",
    "       'Ambient_Air_Temperature_degreesC',\n",
    "       'Engine_Coolant_Temperature_A_degreesC',\n",
    "       'Intake_Air_Temperature_A_degreesC',\n",
    "       'Ambient_Air_Temperature_A_degreesC']\n",
    "\n",
    "columns_to_exclude = ['Absolute_Throttle_Position_', 'Accelerator_Pedal_Position_D_', \n",
    "                      'Accelerator_Pedal_Position_E_', 'Unnamed: 0', 'Time', 'label','Air_Flow_Rate_from_Mass_Flow_Sensor_g_s']\n",
    "\n",
    "label_col = 'Air_Flow_Rate_from_Mass_Flow_Sensor_g_s'\n",
    "df1 = df[(df['label'] == 'fleet1')]\n",
    "df2 = df[(df['label'] == 'fleet2')]\n",
    "df3 = df[(df['label'] == 'fleet3')]\n",
    "df4 = df[(df['label'] == 'fleet4')]\n",
    "\n",
    "def calculate_distances(df1, df2, columns_to_exclude, cols_to_update):\n",
    "    # Create vals_for_sim DataFrame\n",
    "    vals_for_sim = pd.DataFrame(df1.drop(columns_to_exclude, axis=1).mean()).T\n",
    "\n",
    "    def euclidean_distance(row1, row2):\n",
    "        return distance.euclidean(row1, row2)\n",
    "\n",
    "    distances = [euclidean_distance(vals_for_sim.values[0], row) for row in tqdm(df2.drop(columns_to_exclude, axis=1).fillna(0).values)]\n",
    "\n",
    "    df2[\"distance_from_1\"] = distances\n",
    "\n",
    "    sns.displot(df2.distance_from_1)\n",
    "\n",
    "    df_to_save = df2[df2.distance_from_1 < 250].sort_values('distance_from_1')[:500]\n",
    "\n",
    "    for col in cols_to_update:\n",
    "        df_to_save[col] = [vals_for_sim[col][0]] * len(df_to_save)\n",
    "\n",
    "    return df_to_save\n",
    "\n",
    "#calculate_distances(df1 , df2 , columns_to_exclude , cols_to_update).to_csv(\"Fleet_prediction_data_fleet_2.csv\" , header = True)"
   ]
  },
  {
   "cell_type": "code",
   "execution_count": 76,
   "metadata": {},
   "outputs": [
    {
     "name": "stderr",
     "output_type": "stream",
     "text": [
      "\n",
      "\u001b[A\n",
      "\u001b[A\n",
      "\u001b[A\n",
      "\u001b[A\n",
      "\u001b[A\n",
      "\u001b[A\n",
      "\u001b[A\n",
      "\u001b[A\n",
      "\u001b[A\n",
      "\u001b[A\n",
      "\u001b[A\n",
      "\u001b[A\n",
      "\u001b[A\n",
      "\u001b[A\n",
      "\u001b[A\n",
      "\u001b[A\n",
      "\u001b[A\n",
      "\u001b[A\n",
      "100%|██████████| 222508/222508 [00:01<00:00, 114707.02it/s]\n"
     ]
    },
    {
     "data": {
      "image/png": "[encoded data removed]",
      "text/plain": [
       "<Figure size 500x500 with 1 Axes>"
      ]
     },
     "metadata": {},
     "output_type": "display_data"
    }
   ],
   "source": [
    "label_col = 'Air_Flow_Rate_from_Mass_Flow_Sensor_g_s'\n",
    "df1 = df[(df['label'] == 'fleet1')]\n",
    "df2 = df[(df['label'] == 'fleet2')]\n",
    "df3 = df[(df['label'] == 'fleet3')]\n",
    "df4 = df[(df['label'] == 'fleet4')]\n",
    "calculate_distances(df1 , df2 , columns_to_exclude , cols_to_update).to_csv(\"Fleet_prediction_data_fleet_2.csv\" , header = True)"
   ]
  },
  {
   "cell_type": "code",
   "execution_count": 79,
   "metadata": {},
   "outputs": [
    {
     "name": "stderr",
     "output_type": "stream",
     "text": [
      "\n",
      "\u001b[A\n",
      "\u001b[A\n",
      "\u001b[A\n",
      "\u001b[A\n",
      "\u001b[A\n",
      "\u001b[A\n",
      "\u001b[A\n",
      "\u001b[A\n",
      "\u001b[A\n",
      "\u001b[A\n",
      "\u001b[A\n",
      "\u001b[A\n",
      "\u001b[A\n",
      "\u001b[A\n",
      "\u001b[A\n",
      "\u001b[A\n",
      "\u001b[A\n",
      "\u001b[A\n",
      "\u001b[A\n",
      "\u001b[A\n",
      "\u001b[A\n",
      "\u001b[A\n",
      "\u001b[A\n",
      "\u001b[A\n",
      "\u001b[A\n",
      "\u001b[A\n",
      "\u001b[A\n",
      "\u001b[A\n",
      "\u001b[A\n",
      "\u001b[A\n",
      "\u001b[A\n",
      "\u001b[A\n",
      "\u001b[A\n",
      "\u001b[A\n",
      "\u001b[A\n",
      "\u001b[A\n",
      "\u001b[A\n",
      "\u001b[A\n",
      "\u001b[A\n",
      "\u001b[A\n",
      "\u001b[A\n",
      "\u001b[A\n",
      "\u001b[A\n",
      "\u001b[A\n",
      "\u001b[A\n",
      "\u001b[A\n",
      "\u001b[A\n",
      "\u001b[A\n",
      "\u001b[A\n",
      "\u001b[A\n",
      "\u001b[A\n",
      "\u001b[A\n",
      "\u001b[A\n",
      "\u001b[A\n",
      "\u001b[A\n",
      "\u001b[A\n",
      "\u001b[A\n",
      "\u001b[A\n",
      "\u001b[A\n",
      "\u001b[A\n",
      "\u001b[A\n",
      "\u001b[A\n",
      "\u001b[A\n",
      "\u001b[A\n",
      "\u001b[A\n",
      "\u001b[A\n",
      "\u001b[A\n",
      "\u001b[A\n",
      "\u001b[A\n",
      "\u001b[A\n",
      "\u001b[A\n",
      "\u001b[A\n",
      "\u001b[A\n",
      "\u001b[A\n",
      "\u001b[A\n",
      "\u001b[A\n",
      "\u001b[A\n",
      "\u001b[A\n",
      "\u001b[A\n",
      "\u001b[A\n",
      "\u001b[A\n",
      "\u001b[A\n",
      "\u001b[A\n",
      "\u001b[A\n",
      "\u001b[A\n",
      "\u001b[A\n",
      "\u001b[A\n",
      "\u001b[A\n",
      "\u001b[A\n",
      "\u001b[A\n",
      "\u001b[A\n",
      "\u001b[A\n",
      "\u001b[A\n",
      "\u001b[A\n",
      "\u001b[A\n",
      "\u001b[A\n",
      "\u001b[A\n",
      "\u001b[A\n",
      "\u001b[A\n",
      "\u001b[A\n",
      "\u001b[A\n",
      "\u001b[A\n",
      "\u001b[A\n",
      "100%|██████████| 1217200/1217200 [00:10<00:00, 112183.76it/s]\n"
     ]
    },
    {
     "data": {
      "image/png": "[encoded data removed]",
      "text/plain": [
       "<Figure size 500x500 with 1 Axes>"
      ]
     },
     "metadata": {},
     "output_type": "display_data"
    }
   ],
   "source": [
    "label_col = 'Air_Flow_Rate_from_Mass_Flow_Sensor_g_s'\n",
    "df1 = df[(df['label'] == 'fleet1')]\n",
    "df2 = df[(df['label'] == 'fleet2')]\n",
    "df3 = df[(df['label'] == 'fleet3')]\n",
    "df4 = df[(df['label'] == 'fleet4')]\n",
    "calculate_distances(df1 , df3 , columns_to_exclude , cols_to_update).to_csv(\"Fleet_prediction_data_fleet_3.csv\" , header = True)"
   ]
  },
  {
   "cell_type": "code",
   "execution_count": 80,
   "metadata": {},
   "outputs": [
    {
     "name": "stderr",
     "output_type": "stream",
     "text": [
      "\n",
      "\u001b[A\n",
      "\u001b[A\n",
      "\u001b[A\n",
      "\u001b[A\n",
      "100%|██████████| 54640/54640 [00:00<00:00, 124216.13it/s]\n"
     ]
    },
    {
     "data": {
      "image/png": "[encoded data removed]",
      "text/plain": [
       "<Figure size 500x500 with 1 Axes>"
      ]
     },
     "metadata": {},
     "output_type": "display_data"
    }
   ],
   "source": [
    "label_col = 'Air_Flow_Rate_from_Mass_Flow_Sensor_g_s'\n",
    "df1 = df[(df['label'] == 'fleet1')]\n",
    "df2 = df[(df['label'] == 'fleet2')]\n",
    "df3 = df[(df['label'] == 'fleet3')]\n",
    "df4 = df[(df['label'] == 'fleet4')]\n",
    "calculate_distances(df1 , df4 , columns_to_exclude , cols_to_update).to_csv(\"Fleet_prediction_data_fleet_4.csv\" , header = True)"
   ]
  }
 ],
 "metadata": {
  "kernelspec": {
   "display_name": "base",
   "language": "python",
   "name": "python3"
  },
  "language_info": {
   "codemirror_mode": {
    "name": "ipython",
    "version": 3
   },
   "file_extension": ".py",
   "mimetype": "text/x-python",
   "name": "python",
   "nbconvert_exporter": "python",
   "pygments_lexer": "ipython3",
   "version": "3.11.5"
  }
 },
 "nbformat": 4,
 "nbformat_minor": 2
}
