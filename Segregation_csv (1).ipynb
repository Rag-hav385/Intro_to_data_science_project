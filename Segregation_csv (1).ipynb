{
 "cells": [
  {
   "cell_type": "code",
   "execution_count": 1,
   "id": "8685e459",
   "metadata": {},
   "outputs": [],
   "source": [
    "import re"
   ]
  },
  {
   "cell_type": "code",
   "execution_count": 2,
   "id": "f9568c69",
   "metadata": {},
   "outputs": [],
   "source": [
    "import os\n",
    "import shutil"
   ]
  },
  {
   "cell_type": "code",
   "execution_count": 3,
   "id": "ce3b554d",
   "metadata": {},
   "outputs": [],
   "source": [
    "# Define the source directory where the CSV files are located.\n",
    "source_directory = '/Users/sanjayramrajasrinsanjayivasan/Documents/Intro_DS/Project_2/10.35097-1130/data/dataset/OBD-II-Dataset'"
   ]
  },
  {
   "cell_type": "code",
   "execution_count": 4,
   "id": "dc32ed2d",
   "metadata": {},
   "outputs": [
    {
     "name": "stdout",
     "output_type": "stream",
     "text": [
      "Destination folders for each group have been created.\n"
     ]
    }
   ],
   "source": [
    "import os\n",
    "\n",
    "# Define the destination directory where you want to create folders for each group.\n",
    "destination_directory = '/Users/sanjayramrajasrinsanjayivasan/Documents/Intro_DS/Project_2'\n",
    "\n",
    "# Define the groups you want to create folders for.\n",
    "groups = [\n",
    "    'RT_S', 'KA_KA', 'KA_RT', 'S_KA', 'S_CW', 'BB_RT', 'KA_BB', 'RT_RT', 'S_S'\n",
    "]\n",
    "\n",
    "# Create subdirectories for each group inside the destination directory.\n",
    "for group in groups:\n",
    "    directory = os.path.join(destination_directory, group)\n",
    "    os.makedirs(directory, exist_ok=True)\n",
    "\n",
    "print(\"Destination folders for each group have been created.\")\n"
   ]
  },
  {
   "cell_type": "code",
   "execution_count": 5,
   "id": "de90801d",
   "metadata": {},
   "outputs": [],
   "source": [
    "# List the CSV files in the source directory.\n",
    "csv_files = [filename for filename in os.listdir(source_directory) if filename.endswith('.csv')]"
   ]
  },
  {
   "cell_type": "code",
   "execution_count": 6,
   "id": "388fa45a",
   "metadata": {},
   "outputs": [
    {
     "data": {
      "text/plain": [
       "['2018-03-01_Seat_Leon_RT_S_Normal.csv',\n",
       " '2017-07-11_Seat_Leon_S_RT_Frei.csv',\n",
       " '2017-07-14_Seat_Leon_KA_KA_Frei.csv',\n",
       " '2017-08-07_Seat_Leon_KA_RT_Frei.csv',\n",
       " '2018-03-23_Seat_Leon_S_RT_Stau.csv',\n",
       " '2017-08-05_Seat_Leon_S_CW_Normal.csv',\n",
       " '2018-03-19_Seat_Leon_RT_KA_Normal.csv',\n",
       " '2018-02-26_Seat_Leon_RT_KA_Normal.csv',\n",
       " '2017-07-26_Seat_Leon_S_KA_Normal.csv',\n",
       " '2017-08-10_Seat_Leon_S_RT_Frei.csv',\n",
       " '2017-07-24_Seat_Leon_RT_KA_Normal.csv',\n",
       " '2017-07-28_Seat_Leon_KA_RT_Stau.csv',\n",
       " '2017-07-31_Seat_Leon_KA_KA_Frei.csv',\n",
       " '2017-08-08_Seat_Leon_RT_S_Normal.csv',\n",
       " '2017-08-07_Seat_Leon_RT_KA_Frei_Vollbremsung.csv',\n",
       " '2018-03-22_Seat_Leon_S_RT_Normal.csv',\n",
       " '2018-02-17_Seat_Leon_RT_BB_Frei.csv',\n",
       " '2018-02-21_Seat_Leon_BB_RT_Normal.csv',\n",
       " '2017-07-27_Seat_Leon_KA_KA_Normal.csv',\n",
       " '2017-07-05_Seat_Leon_RT_S_Stau.csv',\n",
       " '2018-02-23_Seat_Leon_S_RT_Normal.csv',\n",
       " '2018-04-23_Seat_Leon_KA_KA_Frei.csv',\n",
       " '2017-08-10_Seat_Leon_RT_S_Normal.csv',\n",
       " '2018-02-21_Seat_Leon_KA_BB_Normal.csv',\n",
       " '2017-07-13_Seat_Leon_KA_KA_Normal.csv',\n",
       " '2017-08-01_Seat_Leon_KA_RT_Normal.csv',\n",
       " '2018-03-01_Seat_Leon_S_RT_Normal.csv',\n",
       " '2018-02-23_Seat_Leon_S_S_Stau.csv',\n",
       " '2017-07-05_Seat_Leon_S_KA_Normal.csv',\n",
       " '2018-02-23_Seat_Leon_RT_S_Normal.csv',\n",
       " '2018-02-20_Seat_Leon_KA_KA_Frei.csv',\n",
       " '2018-02-27_Seat_Leon_KA_RT_Normal.csv',\n",
       " '2017-08-02_Seat_Leon_RT_S_Normal.csv',\n",
       " '2018-03-21_Seat_Leon_KA_RT_Normal.csv',\n",
       " '2018-02-18_Seat_Leon_RT_KA_Stau.csv',\n",
       " '2017-07-06_Seat_Leon_KA_RT_Normal.csv',\n",
       " '2018-03-22_Seat_Leon_RT_S_Normal.csv',\n",
       " '2017-08-08_Seat_Leon_S_RT_Normal.csv',\n",
       " '2018-04-23_Seat_Leon_RT_KA_Normal.csv',\n",
       " '2017-08-09_Seat_Leon_S_RT_Normal.csv',\n",
       " '2017-07-11_Seat_Leon_KA_S_Normal.csv',\n",
       " '2018-03-23_Seat_Leon_RT_S_Normal.csv',\n",
       " '2018-02-28_Seat_Leon_S_RT_Normal.csv',\n",
       " '2018-03-20_Seat_Leon_KA_KA_Normal.csv',\n",
       " '2017-07-13_Seat_Leon_RT_KA_Stau_Messfehler.csv',\n",
       " '2018-02-26_Seat_Leon_RT_RT_Frei.csv',\n",
       " '2017-07-11_Seat_Leon_KA_KA_Stau.csv',\n",
       " '2017-07-26_Seat_Leon_RT_S_Stau.csv',\n",
       " '2018-03-07_Seat_Leon_S_RT_Normal.csv',\n",
       " '2017-07-28_Seat_Leon_KA_KA_Normal.csv',\n",
       " '2018-03-26_Seat_Leon_S_RT_Stau.csv',\n",
       " '2018-02-22_Seat_Leon_RT_S_Normal.csv',\n",
       " '2017-07-07_Seat_Leon_S_RT_Normal.csv',\n",
       " '2017-08-01_Seat_Leon_KA_KA_Frei.csv',\n",
       " '2018-02-14_Seat_Leon_S_RT_Normal.csv',\n",
       " '2018-02-21_Seat_Leon_KA_KA_Normal.csv',\n",
       " '2017-07-12_Seat_Leon_S_RT_Normal.csv',\n",
       " '2018-03-02_Seat_Leon_RT_S_Normal.csv',\n",
       " '2018-02-23_Seat_Leon_RT_RT_Frei_Beschleunigung.csv',\n",
       " '2018-02-26_Seat_Leon_KA_KA_Frei.csv',\n",
       " '2017-07-31_Seat_Leon_RT_KA_Normal.csv',\n",
       " '2018-03-29_Seat_Leon_KA_RT_Stau.csv',\n",
       " '2018-03-07_Seat_Leon_RT_S_Normal.csv',\n",
       " '2017-08-03_Seat_Leon_S_RT_Normal.csv',\n",
       " '2017-07-27_Seat_Leon_KA_KA_2_Normal.csv',\n",
       " '2018-02-28_Seat_Leon_RT_S_Normal.csv',\n",
       " '2017-08-09_Seat_Leon_RT_S_Normal.csv',\n",
       " '2018-02-17_Seat_Leon_BB_RT_Normal_Glatteis.csv',\n",
       " '2017-07-12_Seat_Leon_RT_S_Normal.csv',\n",
       " '2018-02-16_Seat_Leon_S_RT_Normal.csv',\n",
       " '2018-02-27_Seat_Leon_KA_KA_Normal.csv',\n",
       " '2017-07-14_Seat_Leon_KA_RT_Normal.csv',\n",
       " '2018-03-06_Seat_Leon_KA_RT_Normal.csv',\n",
       " '2018-03-08_Seat_Leon_RT_S_Normal.csv',\n",
       " '2017-07-06_Seat_Leon_KA_KA_Normal.csv',\n",
       " '2018-02-14_Seat_Leon_RT_S_Normal.csv',\n",
       " '2017-08-04_Seat_Leon_S_RT_Normal.csv',\n",
       " '2018-03-26_Seat_Leon_RT_S_Normal.csv',\n",
       " '2017-07-10_Seat_Leon_KA_KA_Stau.csv',\n",
       " '2017-07-07_Seat_Leon_RT_S_Normal.csv',\n",
       " '2018-03-19_Seat_Leon_KA_KA_Frei.csv']"
      ]
     },
     "execution_count": 6,
     "metadata": {},
     "output_type": "execute_result"
    }
   ],
   "source": [
    "csv_files"
   ]
  },
  {
   "cell_type": "code",
   "execution_count": 7,
   "id": "8612da19",
   "metadata": {},
   "outputs": [
    {
     "data": {
      "text/plain": [
       "81"
      ]
     },
     "execution_count": 7,
     "metadata": {},
     "output_type": "execute_result"
    }
   ],
   "source": [
    "len(csv_files)"
   ]
  },
  {
   "cell_type": "code",
   "execution_count": null,
   "id": "f08211d6",
   "metadata": {},
   "outputs": [],
   "source": []
  }
 ],
 "metadata": {
  "kernelspec": {
   "display_name": "Python 3 (ipykernel)",
   "language": "python",
   "name": "python3"
  },
  "language_info": {
   "codemirror_mode": {
    "name": "ipython",
    "version": 3
   },
   "file_extension": ".py",
   "mimetype": "text/x-python",
   "name": "python",
   "nbconvert_exporter": "python",
   "pygments_lexer": "ipython3",
   "version": "3.11.4"
  }
 },
 "nbformat": 4,
 "nbformat_minor": 5
}
